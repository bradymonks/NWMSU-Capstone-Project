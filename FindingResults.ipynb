{
 "cells": [
  {
   "cell_type": "markdown",
   "id": "99f94ad9-760c-4509-a41b-88ccbedbd80e",
   "metadata": {},
   "source": [
    "## Identify working Dataframe"
   ]
  },
  {
   "cell_type": "code",
   "execution_count": 1,
   "id": "6f63c4d4-f066-4c5d-a60c-ec5b4ec9b005",
   "metadata": {
    "tags": []
   },
   "outputs": [
    {
     "name": "stderr",
     "output_type": "stream",
     "text": [
      "C:\\Users\\brady\\AppData\\Local\\Temp\\ipykernel_19480\\1903137750.py:3: DtypeWarning: Columns (12,13) have mixed types. Specify dtype option on import or set low_memory=False.\n",
      "  df = pd.read_csv('AthleteDatabase.csv')\n"
     ]
    }
   ],
   "source": [
    "import pandas as pd\n",
    "\n",
    "df = pd.read_csv('AthleteDatabase.csv')\n"
   ]
  },
  {
   "cell_type": "markdown",
   "id": "f83d4a6d-8d13-471c-a531-75a4183b8783",
   "metadata": {
    "tags": []
   },
   "source": [
    "### College - BirthPlace Combinations"
   ]
  },
  {
   "cell_type": "code",
   "execution_count": 2,
   "id": "e552b646-40d3-4e21-91cb-1b7dbdbd83ac",
   "metadata": {
    "tags": []
   },
   "outputs": [],
   "source": [
    "## Create function to determine scoring\n",
    "def calculate_score(college, birthplace, league):\n",
    "    college_row = college_rankings[college_rankings['College'] == college]\n",
    "    birthplace_row = birthplace_rankings[birthplace_rankings['BirthPlace'] == birthplace]\n",
    "\n",
    "    if college_row.empty or birthplace_row.empty:\n",
    "        return float('inf')\n",
    "\n",
    "    score = college_row[league].values[0] + birthplace_row[league].values[0]\n",
    "    return score\n"
   ]
  },
  {
   "cell_type": "code",
   "execution_count": 3,
   "id": "bdab7d32-7cc4-4bce-8792-4c2cb422f3f2",
   "metadata": {
    "tags": []
   },
   "outputs": [],
   "source": [
    "import itertools\n",
    "import pandas as pd\n",
    "\n",
    "college_rankings = pd.read_csv('FinalCollegeRankings.csv', nrows=150)\n",
    "birthplace_rankings = pd.read_csv('FinalBirthPlaceRankings.csv', nrows=150)\n",
    "\n",
    "combinations = list(itertools.product(college_rankings['College'].unique(), birthplace_rankings['BirthPlace'].unique()))\n",
    "scores = []\n",
    "\n",
    "for college, birthplace in combinations:\n",
    "    scores.append({\n",
    "        'College': college,\n",
    "        'BirthPlace': birthplace,\n",
    "        'MLB_score': calculate_score(college, birthplace, 'MLB'),\n",
    "        'NBA_score': calculate_score(college, birthplace, 'NBA'),\n",
    "        'NFL_score': calculate_score(college, birthplace, 'NFL')\n",
    "    })\n",
    "\n",
    "scores_df = pd.DataFrame(scores)\n",
    "\n",
    "mlb_top = scores_df.nsmallest(100, 'MLB_score')\n",
    "nba_top = scores_df.nsmallest(100, 'NBA_score')\n",
    "nfl_top = scores_df.nsmallest(100, 'NFL_score')\n"
   ]
  },
  {
   "cell_type": "code",
   "execution_count": 4,
   "id": "b2882bb8-9204-414a-a183-f59d709dd575",
   "metadata": {
    "tags": []
   },
   "outputs": [
    {
     "name": "stdout",
     "output_type": "stream",
     "text": [
      "                                  College        BirthPlace  MLB_score  \\\n",
      "206                University of Michigan       Chicago, IL       26.5   \n",
      "101  University of California-Los Angeles       Chicago, IL       37.0   \n",
      "10                 University of Michigan   Los Angeles, CA       17.5   \n",
      "280  University of California-Los Angeles   Los Angeles, CA       26.5   \n",
      "122              University of Notre Dame       Chicago, IL      158.5   \n",
      "..                                    ...               ...        ...   \n",
      "192              University of Louisville       Detroit, MI      300.0   \n",
      "179              University of Louisville      Brooklyn, NY      298.0   \n",
      "167                 St. John's University       Chicago, IL      293.0   \n",
      "193                 St. John's University   Los Angeles, CA      292.0   \n",
      "180                 St. John's University  Philadelphia, PA      294.0   \n",
      "\n",
      "     NBA_score  NFL_score  Total   Rank  \n",
      "206       52.5       14.0   22.0    1.0  \n",
      "101        3.5      100.0   24.0    2.0  \n",
      "10        81.5       21.5   24.0    2.0  \n",
      "280       12.5      118.0   26.0    4.0  \n",
      "122       33.5        1.5   29.0    5.0  \n",
      "..         ...        ...    ...    ...  \n",
      "192      113.5      267.5  426.0  250.0  \n",
      "179       97.5      287.0  438.0  251.0  \n",
      "167       81.5      298.0  528.0  252.0  \n",
      "193      113.5      299.0  530.0  253.0  \n",
      "180       97.5      300.0  548.0  254.0  \n",
      "\n",
      "[254 rows x 7 columns]\n"
     ]
    },
    {
     "name": "stderr",
     "output_type": "stream",
     "text": [
      "C:\\Users\\brady\\AppData\\Local\\Temp\\ipykernel_19480\\4211363736.py:9: FutureWarning: Dropping of nuisance columns in DataFrame reductions (with 'numeric_only=None') is deprecated; in a future version this will raise TypeError.  Select only valid columns before calling the reduction.\n",
      "  top_combined['Total'] = top_combined.sum(axis=1)\n"
     ]
    }
   ],
   "source": [
    "mlb_top['League'] = 'MLB'\n",
    "nba_top['League'] = 'NBA'\n",
    "nfl_top['League'] = 'NFL'\n",
    "\n",
    "top_combined = pd.concat([mlb_top, nba_top, nfl_top], ignore_index=True)\n",
    "top_combined = top_combined.drop(columns=['League'])\n",
    "\n",
    "# Add a column for total rank\n",
    "top_combined['Total'] = top_combined.sum(axis=1)\n",
    "\n",
    "# Put together columns\n",
    "score_cols = ['MLB_score', 'NBA_score', 'NFL_score']\n",
    "\n",
    "# sort each score column in ascending order and replace scores with ranks\n",
    "for col in score_cols:\n",
    "    top_combined[col] = top_combined[col].rank(ascending=True)\n",
    "    top_combined = top_combined.sort_values(col)             \n",
    "                            \n",
    "# Remove duplicate rows\n",
    "top_combined.drop_duplicates(inplace=True)\n",
    "\n",
    "# Add a new column with rankings based on the Total column\n",
    "top_combined = top_combined.sort_values(by='Total')\n",
    "top_combined['Rank'] = top_combined['Total'].rank(method='min')\n",
    "\n",
    "# Sort by Rank\n",
    "top_combined = top_combined.sort_values(by='Rank')\n",
    "\n",
    "# Save df to CSV file\n",
    "top_combined.to_csv(\"TopCityCollege.csv\",index=False)\n",
    "print(top_combined)\n"
   ]
  },
  {
   "cell_type": "markdown",
   "id": "daf76370-3cbf-4658-8736-c0ff516ccc70",
   "metadata": {
    "tags": []
   },
   "source": [
    "### Function that determines best League fit based on BirthPlace and College input"
   ]
  },
  {
   "cell_type": "code",
   "execution_count": 5,
   "id": "440fcb05-f9e3-4a4e-9e5c-da0a87528f2f",
   "metadata": {
    "tags": []
   },
   "outputs": [],
   "source": [
    "def best_league(college, birthplace):\n",
    "    college_row = college_rankings[college_rankings['College'] == college]\n",
    "    birthplace_row = birthplace_rankings[birthplace_rankings['BirthPlace'] == birthplace]\n",
    "\n",
    "    if college_row.empty or birthplace_row.empty:\n",
    "        return \"No data available for given college and/or birthplace.\"\n",
    "\n",
    "    league_scores = {\n",
    "        'MLB': college_row['MLB'].values[0] + birthplace_row['MLB'].values[0],\n",
    "        'NBA': college_row['NBA'].values[0] + birthplace_row['NBA'].values[0],\n",
    "        'NFL': college_row['NFL'].values[0] + birthplace_row['NFL'].values[0]\n",
    "    }\n",
    "\n",
    "    best_league = min(league_scores, key=league_scores.get)\n",
    "\n",
    "    # Explanation\n",
    "    explanation = f\"Based on the rankings for the given college and birthplace:\\n\"\n",
    "    explanation += f\"MLB score: {league_scores['MLB']} (College: {college_row['MLB'].values[0]}, Birthplace: {birthplace_row['MLB'].values[0]})\\n\"\n",
    "    explanation += f\"NBA score: {league_scores['NBA']} (College: {college_row['NBA'].values[0]}, Birthplace: {birthplace_row['NBA'].values[0]})\\n\"\n",
    "    explanation += f\"NFL score: {league_scores['NFL']} (College: {college_row['NFL'].values[0]}, Birthplace: {birthplace_row['NFL'].values[0]})\\n\"\n",
    "    explanation += f\"\\nThe best league for the combination of {college} and {birthplace} is {best_league}, with the lowest combined score of {league_scores[best_league]}.\"\n",
    "\n",
    "    return explanation\n"
   ]
  },
  {
   "cell_type": "code",
   "execution_count": 10,
   "id": "77452849-a999-4517-bb80-da968a9942e3",
   "metadata": {
    "tags": []
   },
   "outputs": [
    {
     "name": "stdout",
     "output_type": "stream",
     "text": [
      "The best league for the combination of University of Kansas and Kansas City, MO is: Based on the rankings for the given college and birthplace:\n",
      "MLB score: 121.0 (College: 86.0, Birthplace: 35.0)\n",
      "NBA score: 61.0 (College: 5.0, Birthplace: 56.0)\n",
      "NFL score: 105.0 (College: 57.0, Birthplace: 48.0)\n",
      "\n",
      "The best league for the combination of University of Kansas and Kansas City, MO is NBA, with the lowest combined score of 61.0.\n"
     ]
    }
   ],
   "source": [
    "college = 'University of Kansas'\n",
    "birthplace = 'Kansas City, MO'\n",
    "\n",
    "result = best_league(college, birthplace)\n",
    "print(f\"The best league for the combination of {college} and {birthplace} is: {result}\")\n"
   ]
  },
  {
   "cell_type": "markdown",
   "id": "d4b7be50-ce99-4683-91ca-f312c9247910",
   "metadata": {},
   "source": [
    "## Top 10 "
   ]
  },
  {
   "cell_type": "markdown",
   "id": "ea259cd6-8007-4693-9551-8e52e328eb39",
   "metadata": {},
   "source": [
    "### Top 10 MLB"
   ]
  },
  {
   "cell_type": "code",
   "execution_count": 11,
   "id": "c7f1566b-cf95-41f9-a344-5f6c6e5130bb",
   "metadata": {
    "tags": []
   },
   "outputs": [
    {
     "name": "stdout",
     "output_type": "stream",
     "text": [
      "                               College       BirthPlace  MLB_score   Rank\n",
      "0                  University of Texas  Los Angeles, CA        1.0   52.0\n",
      "2                  University of Texas      Chicago, IL        3.0   47.0\n",
      "204  University of Southern California  Los Angeles, CA        3.0    8.0\n",
      "4                  University of Texas      Houston, TX        6.5   74.0\n",
      "3    University of Southern California      Chicago, IL        6.5    6.0\n",
      "5             Arizona State University  Los Angeles, CA        6.5  116.0\n",
      "9             Arizona State University      Chicago, IL       11.0  111.0\n",
      "8                  Stanford University  Los Angeles, CA       11.0   74.0\n",
      "6    University of Southern California      Houston, TX       11.0   16.0\n",
      "7                  University of Texas     New York, NY       11.0   91.0\n"
     ]
    }
   ],
   "source": [
    "# Sort by MLB\n",
    "Top10MLB = top_combined.sort_values(by='MLB_score')\n",
    "\n",
    "# Drop other Rows   \n",
    "Top10MLB = Top10MLB.drop(columns=['NBA_score','NFL_score','Total'])\n",
    "\n",
    "# Select first 10 rows\n",
    "Top10MLB = Top10MLB.head(10)\n",
    "\n",
    "print(Top10MLB)                                    "
   ]
  },
  {
   "cell_type": "markdown",
   "id": "684d80c1-7de9-4d39-a650-31ad73207253",
   "metadata": {},
   "source": [
    "### Top 10 NFL"
   ]
  },
  {
   "cell_type": "code",
   "execution_count": 12,
   "id": "585c504e-af35-4d28-b990-946234fbd883",
   "metadata": {
    "tags": []
   },
   "outputs": [
    {
     "name": "stdout",
     "output_type": "stream",
     "text": [
      "                               College       BirthPlace  NFL_score   Rank\n",
      "122           University of Notre Dame      Chicago, IL        1.5    5.0\n",
      "3    University of Southern California      Chicago, IL        4.5    6.0\n",
      "138           University of Notre Dame  Los Angeles, CA        4.5    7.0\n",
      "205              Ohio State University      Chicago, IL        8.5   31.0\n",
      "204  University of Southern California  Los Angeles, CA        8.5    8.0\n",
      "203           University of Notre Dame      Houston, TX        8.5   13.0\n",
      "206             University of Michigan      Chicago, IL       14.0    1.0\n",
      "207           University of Notre Dame        Miami, FL       14.0  111.0\n",
      "6    University of Southern California      Houston, TX       14.0   16.0\n",
      "209              Ohio State University  Los Angeles, CA       14.0   33.0\n"
     ]
    }
   ],
   "source": [
    "# Sort by NFL\n",
    "Top10NFL = top_combined.sort_values(by='NFL_score')\n",
    "\n",
    "# Drop other Rows   \n",
    "Top10NFL = Top10NFL.drop(columns=['NBA_score','MLB_score','Total'])\n",
    "\n",
    "# Select first 10 rows\n",
    "Top10NFL = Top10NFL.head(10)\n",
    "\n",
    "print(Top10NFL)                                    "
   ]
  },
  {
   "cell_type": "markdown",
   "id": "af86cc1b-1fe8-4ac7-8964-e11104b7c4ac",
   "metadata": {},
   "source": [
    "### Top 10 NBA"
   ]
  },
  {
   "cell_type": "code",
   "execution_count": 13,
   "id": "251e99c8-83c3-448b-adfc-08e6bc3106f8",
   "metadata": {
    "tags": []
   },
   "outputs": [
    {
     "name": "stdout",
     "output_type": "stream",
     "text": [
      "                                         College        BirthPlace  NBA_score  \\\n",
      "100                       University of Kentucky       Chicago, IL        1.0   \n",
      "101         University of California-Los Angeles       Chicago, IL        3.5   \n",
      "102                       University of Kentucky  Philadelphia, PA        3.5   \n",
      "105                       University of Kentucky   Los Angeles, CA        7.5   \n",
      "97   University of North Carolina at Chapel Hill       Chicago, IL        7.5   \n",
      "103         University of California-Los Angeles  Philadelphia, PA        7.5   \n",
      "107  University of North Carolina at Chapel Hill  Philadelphia, PA       12.5   \n",
      "280         University of California-Los Angeles   Los Angeles, CA       12.5   \n",
      "109                              Duke University       Chicago, IL       12.5   \n",
      "108                       University of Kentucky      New York, NY       12.5   \n",
      "\n",
      "      Rank  \n",
      "100  158.0  \n",
      "101    2.0  \n",
      "102  183.0  \n",
      "105  159.0  \n",
      "97    35.0  \n",
      "103   20.0  \n",
      "107   79.0  \n",
      "280    4.0  \n",
      "109  177.0  \n",
      "108  180.0  \n"
     ]
    }
   ],
   "source": [
    "# Sort by MLB\n",
    "Top10NBA = top_combined.sort_values(by='NBA_score')\n",
    "\n",
    "# Drop other Rows   \n",
    "Top10NBA = Top10NBA.drop(columns=['NFL_score','MLB_score','Total'])\n",
    "\n",
    "# Select first 10 rows\n",
    "Top10NBA = Top10NBA.head(10)\n",
    "\n",
    "print(Top10NBA)                                    "
   ]
  }
 ],
 "metadata": {
  "kernelspec": {
   "display_name": "Python 3 (ipykernel)",
   "language": "python",
   "name": "python3"
  },
  "language_info": {
   "codemirror_mode": {
    "name": "ipython",
    "version": 3
   },
   "file_extension": ".py",
   "mimetype": "text/x-python",
   "name": "python",
   "nbconvert_exporter": "python",
   "pygments_lexer": "ipython3",
   "version": "3.11.3"
  }
 },
 "nbformat": 4,
 "nbformat_minor": 5
}
